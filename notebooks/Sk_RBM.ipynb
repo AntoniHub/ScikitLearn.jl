{
 "cells": [
  {
   "cell_type": "markdown",
   "metadata": {},
   "source": [
    "# Restricted Boltzmann Machine features for digit classification"
   ]
  },
  {
   "cell_type": "markdown",
   "metadata": {},
   "source": [
    "Adapted from http://scikit-learn.org/stable/auto_examples/neural_networks/plot_rbm_logistic_classification.html"
   ]
  },
  {
   "cell_type": "markdown",
   "metadata": {},
   "source": [
    "For greyscale image data where pixel values can be interpreted as degrees of blackness on a white background, like handwritten digit recognition, the Bernoulli Restricted Boltzmann machine model (BernoulliRBM) can perform effective non-linear feature extraction.\n",
    "\n",
    "In order to learn good latent representations from a small dataset, we artificially generate more labeled data by perturbing the training data with linear shifts of 1 pixel in each direction.\n",
    "\n",
    "This example shows how to build a classification pipeline with a BernoulliRBM feature extractor and a LogisticRegression classifier. The hyperparameters of the entire model (learning rate, hidden layer size, regularization) were optimized by grid search, but the search is not reproduced here because of runtime constraints.\n",
    "\n",
    "Logistic regression on raw pixel values is presented for comparison. The example shows that the features extracted by the BernoulliRBM help improve the classification accuracy."
   ]
  },
  {
   "cell_type": "code",
   "execution_count": 2,
   "metadata": {
    "collapsed": false
   },
   "outputs": [
    {
     "name": "stderr",
     "output_type": "stream",
     "text": [
      "WARNING: [a,b] concatenation is deprecated; use [a;b] instead\n",
      " in depwarn at deprecated.jl:73\n",
      " in oldstyle_vcat_warning at /Applications/Julia-0.4.3.app/Contents/Resources/julia/lib/julia/sys.dylib\n",
      " in vect at abstractarray.jl:38\n",
      " in find_in_path at /Users/cedric/.julia/v0.4/Autoreload/src/files.jl:11\n",
      " in find_file at /Users/cedric/.julia/v0.4/Autoreload/src/files.jl:40\n",
      " in arequire at /Users/cedric/.julia/v0.4/Autoreload/src/Autoreload.jl:50\n",
      " in include at /Applications/Julia-0.4.3.app/Contents/Resources/julia/lib/julia/sys.dylib\n",
      " in include_from_node1 at /Applications/Julia-0.4.3.app/Contents/Resources/julia/lib/julia/sys.dylib\n",
      " in include_string at loading.jl:266\n",
      " in execute_request_0x535c5df2 at /Users/cedric/.julia/v0.4/IJulia/src/execute_request.jl:177\n",
      " in eventloop at /Users/cedric/.julia/v0.4/IJulia/src/IJulia.jl:141\n",
      " in anonymous at task.jl:447\n",
      "while loading /Users/cedric/Programa/Sklearn/notebooks/preamble.jl, in expression starting on line 4\n",
      "WARNING: `require` is deprecated, use `using` or `import` instead\n"
     ]
    }
   ],
   "source": [
    "include(\"preamble.jl\")"
   ]
  },
  {
   "cell_type": "code",
   "execution_count": 3,
   "metadata": {
    "collapsed": false
   },
   "outputs": [
    {
     "name": "stderr",
     "output_type": "stream",
     "text": [
      " in depwarn at deprecated.jl:73\n",
      " [inlined code] from deprecated.jl:694\n",
      " in require at no file:0\n",
      " in arequire at /Users/cedric/.julia/v0.4/Autoreload/src/Autoreload.jl:87\n",
      " in include at /Applications/Julia-0.4.3.app/Contents/Resources/julia/lib/julia/sys.dylib\n",
      " in include_from_node1 at /Applications/Julia-0.4.3.app/Contents/Resources/julia/lib/julia/sys.dylib\n",
      " in include_string at loading.jl:266\n",
      " in execute_request_0x535c5df2 at /Users/cedric/.julia/v0.4/IJulia/src/execute_request.jl:177\n",
      " in eventloop at /Users/cedric/.julia/v0.4/IJulia/src/IJulia.jl:141\n",
      " in anonymous at task.jl:447\n",
      "while loading /Users/cedric/Programa/Sklearn/notebooks/preamble.jl, in expression starting on line 4\n",
      "WARNING: requiring \"Utils\" in module \"Sklearn\" did not define a corresponding module.\n",
      "WARNING: using Sklearn.@pyimport2 in module Main conflicts with an existing identifier.\n"
     ]
    },
    {
     "data": {
      "text/plain": [
       "PyObject <class 'sklearn.neural_network.rbm.BernoulliRBM'>"
      ]
     },
     "execution_count": 3,
     "metadata": {},
     "output_type": "execute_result"
    }
   ],
   "source": [
    "@pyimport2 scipy.ndimage: convolve\n",
    "@pyimport2 sklearn: (linear_model, datasets, metrics)\n",
    "@pyimport2 sklearn.cross_validation: train_test_split\n",
    "@pyimport2 sklearn.neural_network: BernoulliRBM"
   ]
  },
  {
   "cell_type": "code",
   "execution_count": 4,
   "metadata": {
    "collapsed": false
   },
   "outputs": [],
   "source": [
    "using Sklearn: Pipeline"
   ]
  },
  {
   "cell_type": "code",
   "execution_count": 5,
   "metadata": {
    "collapsed": false
   },
   "outputs": [
    {
     "data": {
      "text/plain": [
       "PyObject BernoulliRBM(batch_size=10, learning_rate=0.1, n_components=256, n_iter=10,\n",
       "       random_state=0, verbose=True)"
      ]
     },
     "execution_count": 5,
     "metadata": {},
     "output_type": "execute_result"
    }
   ],
   "source": [
    "###############################################################################\n",
    "# Setting up\n",
    "\n",
    "    \"\"\"\n",
    "    This produces a dataset 5 times bigger than the original one,\n",
    "    by moving the 8x8 images in X around by 1px to left, right, down, up\n",
    "    \"\"\"\n",
    "function nudge_dataset(X, Y)\n",
    "    direction_vectors = Any[\n",
    "        [0 1 0\n",
    "         0 0 0\n",
    "         0 0 0],\n",
    "        [0 0 0\n",
    "         1 0 0\n",
    "         0 0 0],\n",
    "\n",
    "        [0 0 0\n",
    "         0 0 1\n",
    "         0 0 0],\n",
    "\n",
    "        [0 0 0\n",
    "         0 0 0\n",
    "         0 1 0]]\n",
    "\n",
    "    shift(x, w) = convolve(reshape(x, 8, 8); mode=\"constant\", weights=w)[:]\n",
    "    X = vcat(X, Any[vcat([shift(X[i, :], vector)' for i in 1:size(X, 1)]...)\n",
    "                 for vector in direction_vectors]...)\n",
    "    Y = vcat(fill(Y, 5)...)\n",
    "    return X, Y\n",
    "end\n",
    "\n",
    "# Load Data\n",
    "digits = datasets.load_digits()\n",
    "X = digits[\"data\"]\n",
    "X, Y = nudge_dataset(X, digits[\"target\"]);\n",
    "\n",
    "X = (X .- minimum(X, 1)) ./ (maximum(X, 1) .+ 0.0001);\n",
    "\n",
    "X_train, X_test, Y_train, Y_test = train_test_split(X, Y,\n",
    "                                                    test_size=0.2,\n",
    "                                                    random_state=0);\n",
    "\n",
    "# Models we will use\n",
    "logistic = linear_model.LogisticRegression()\n",
    "rbm = BernoulliRBM(random_state=0, verbose=true)"
   ]
  },
  {
   "cell_type": "code",
   "execution_count": 7,
   "metadata": {
    "collapsed": false
   },
   "outputs": [
    {
     "data": {
      "text/plain": [
       "Sklearn.Pipeline(false,[(\"rbm\",PyObject BernoulliRBM(batch_size=10, learning_rate=0.1, n_components=256, n_iter=10,\n",
       "       random_state=0, verbose=True)),(\"logistic\",PyObject LogisticRegression(C=1.0, class_weight=None, dual=False, fit_intercept=True,\n",
       "          intercept_scaling=1, max_iter=100, multi_class='ovr',\n",
       "          penalty='l2', random_state=None, solver='liblinear', tol=0.0001,\n",
       "          verbose=0))])"
      ]
     },
     "execution_count": 7,
     "metadata": {},
     "output_type": "execute_result"
    }
   ],
   "source": [
    "classifier = Pipeline([(\"rbm\", rbm), (\"logistic\", logistic)])"
   ]
  },
  {
   "cell_type": "code",
   "execution_count": 46,
   "metadata": {
    "collapsed": false
   },
   "outputs": [
    {
     "data": {
      "text/plain": [
       "6000.0"
      ]
     },
     "execution_count": 46,
     "metadata": {},
     "output_type": "execute_result"
    }
   ],
   "source": [
    "###############################################################################\n",
    "# Training\n",
    "\n",
    "# Hyper-parameters. These were set by cross-validation,\n",
    "# using a GridSearchCV. Here we are not performing cross-validation to\n",
    "# save time.\n",
    "rbm[:learning_rate] = 0.06\n",
    "rbm[:n_iter] = 20\n",
    "# More components tend to give better prediction performance, but larger\n",
    "# fitting time\n",
    "rbm[:n_components] = 100\n",
    "logistic[:C] = 6000.0\n",
    "\n",
    "# Training RBM-Logistic Pipeline\n",
    "fit!(classifier, X_train, Y_train)\n",
    "\n",
    "# Training Logistic regression\n",
    "logistic_classifier = linear_model.LogisticRegression(C=100.0)\n",
    "fit!(logistic_classifier, X_train, Y_train);"
   ]
  },
  {
   "cell_type": "code",
   "execution_count": 62,
   "metadata": {
    "collapsed": false
   },
   "outputs": [
    {
     "name": "stdout",
     "output_type": "stream",
     "text": [
      "Logistic regression using RBM features:\n",
      "             precision    recall  f1-score   support\n",
      "\n",
      "          0       0.99      0.98      0.99       174\n",
      "          1       0.94      0.95      0.95       184\n",
      "          2       0.95      0.97      0.96       166\n",
      "          3       0.95      0.88      0.91       194\n",
      "          4       0.96      0.97      0.97       186\n",
      "          5       0.92      0.92      0.92       181\n",
      "          6       0.99      0.97      0.98       207\n",
      "          7       0.94      0.97      0.96       154\n",
      "          8       0.88      0.88      0.88       182\n",
      "          9       0.90      0.93      0.91       169\n",
      "\n",
      "avg / total       0.94      0.94      0.94      1797\n",
      "\n"
     ]
    },
    {
     "data": {
      "image/png": "[encoded data removed]",
      "text/plain": [
       "PyPlot.Figure(PyObject <matplotlib.figure.Figure object at 0x32aa58e10>)"
      ]
     },
     "metadata": {},
     "output_type": "display_data"
    },
    {
     "name": "stdout",
     "output_type": "stream",
     "text": [
      "Logistic regression using raw pixel features:\n",
      "             precision    recall  f1-score   support\n",
      "\n",
      "          0       0.86      0.94      0.90       174\n",
      "          1       0.55      0.53      0.54       184\n",
      "          2       0.79      0.86      0.82       166\n",
      "          3       0.78      0.73      0.75       194\n",
      "          4       0.86      0.83      0.85       186\n",
      "          5       0.79      0.77      0.78       181\n",
      "          6       0.89      0.89      0.89       207\n",
      "          7       0.85      0.93      0.89       154\n",
      "          8       0.65      0.60      0.63       182\n",
      "          9       0.71      0.72      0.72       169\n",
      "\n",
      "avg / total       0.77      0.78      0.78      1797\n",
      "\n"
     ]
    }
   ],
   "source": [
    "###############################################################################\n",
    "# Evaluation\n",
    "\n",
    "report = metrics.classification_report(Y_test, predict(classifier, X_test))\n",
    "println(\"Logistic regression using RBM features:\\n$(report)\")\n",
    "report2 = metrics.classification_report(Y_test, predict(logistic_classifier, X_test))\n",
    "print(\"Logistic regression using raw pixel features:\\n$(report2)\\n\")\n",
    "\n",
    "###############################################################################\n",
    "# Plotting\n",
    "\n",
    "figure(figsize=(4.2, 4))\n",
    "for i in 1:size(rbm[:components_], 1)\n",
    "    comp = rbm[:components_][i, :]\n",
    "    subplot(10, 10, i)\n",
    "    imshow(reshape(comp, 8, 8), cmap=get_cmap(\"gray_r\"),\n",
    "           interpolation=\"nearest\")\n",
    "    xticks(())\n",
    "    yticks(())\n",
    "end\n",
    "\n",
    "suptitle(\"100 components extracted by RBM\", fontsize=16)\n",
    "subplots_adjust(0.08, 0.02, 0.92, 0.85, 0.08, 0.23)"
   ]
  }
 ],
 "metadata": {
  "kernelspec": {
   "display_name": "Julia 0.4.3",
   "language": "julia",
   "name": "julia-0.4"
  },
  "language_info": {
   "file_extension": ".jl",
   "mimetype": "application/julia",
   "name": "julia",
   "version": "0.4.3"
  }
 },
 "nbformat": 4,
 "nbformat_minor": 0
}
