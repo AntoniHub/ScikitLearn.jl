{
 "cells": [
  {
   "cell_type": "markdown",
   "metadata": {},
   "source": [
    "# Two Class Adaboost"
   ]
  },
  {
   "cell_type": "markdown",
   "metadata": {},
   "source": [
    "Adapted from http://scikit-learn.org/stable/auto_examples/ensemble/plot_adaboost_twoclass.html"
   ]
  },
  {
   "cell_type": "markdown",
   "metadata": {},
   "source": [
    "This example fits an AdaBoosted decision stump on a non-linearly separable classification dataset composed of two “Gaussian quantiles” clusters (see `sklearn.datasets.make_gaussian_quantiles`) and plots the decision boundary and decision scores. The distributions of decision scores are shown separately for samples of class A and B. The predicted class label for each sample is determined by the sign of the decision score. Samples with decision scores greater than zero are classified as B, and are otherwise classified as A. The magnitude of a decision score determines the degree of likeness with the predicted class label. Additionally, a new dataset could be constructed containing a desired purity of class B, for example, by only selecting samples with a decision score above some value."
   ]
  },
  {
   "cell_type": "code",
   "execution_count": 1,
   "metadata": {
    "collapsed": false
   },
   "outputs": [
    {
     "ename": "LoadError",
     "evalue": "LoadError: LoadError: UndefVarError: api not defined\nwhile loading /Users/cedric/Programa/Sklearn/src/Sklearn.jl, in expression starting on line 71\nwhile loading In[1], in expression starting on line 10",
     "output_type": "error",
     "traceback": [
      "LoadError: LoadError: UndefVarError: api not defined\nwhile loading /Users/cedric/Programa/Sklearn/src/Sklearn.jl, in expression starting on line 71\nwhile loading In[1], in expression starting on line 10",
      "",
      " in anonymous at no file",
      " in include at /Applications/Julia-0.4.3.app/Contents/Resources/julia/lib/julia/sys.dylib",
      " in include_from_node1 at /Applications/Julia-0.4.3.app/Contents/Resources/julia/lib/julia/sys.dylib",
      " in require at /Applications/Julia-0.4.3.app/Contents/Resources/julia/lib/julia/sys.dylib"
     ]
    }
   ],
   "source": [
    "push!(LOAD_PATH, \"../../SklearnBase/src\")\n",
    "push!(LOAD_PATH, \"../src\")\n",
    "\n",
    "# TODO: Where should Ndgrid be?\n",
    "include(\"../src/Ndgrid.jl\")\n",
    "\n",
    "using PyCall\n",
    "using PyPlot\n",
    "\n",
    "using Sklearn"
   ]
  },
  {
   "cell_type": "code",
   "execution_count": 2,
   "metadata": {
    "collapsed": false
   },
   "outputs": [
    {
     "ename": "LoadError",
     "evalue": "LoadError: UndefVarError: Datasets not defined\nwhile loading In[2], in expression starting on line 1",
     "output_type": "error",
     "traceback": [
      "LoadError: UndefVarError: Datasets not defined\nwhile loading In[2], in expression starting on line 1",
      ""
     ]
    }
   ],
   "source": [
    "X1, y1 = Datasets.make_gaussian_quantiles(cov=2.,\n",
    "                                            n_samples=200, n_features=2,\n",
    "                                            n_classes=2, random_state=1)\n",
    "X2, y2 = Datasets.make_gaussian_quantiles(mean=(3, 3), cov=1.5,\n",
    "                                            n_samples=300, n_features=2,\n",
    "                                            n_classes=2, random_state=1);\n",
    "X = vcat(X1, X2);\n",
    "y = vcat(y1, -y2 + 1);\n",
    "\n",
    "bdt = Ensembles.AdaBoostClassifier(Trees.DecisionTreeClassifier(max_depth=1),\n",
    "                                algorithm=\"SAMME\",\n",
    "                                n_estimators=200)\n",
    "fit!(bdt, X, y);"
   ]
  },
  {
   "cell_type": "code",
   "execution_count": 3,
   "metadata": {
    "collapsed": false
   },
   "outputs": [
    {
     "ename": "LoadError",
     "evalue": "LoadError: UndefVarError: X not defined\nwhile loading In[3], in expression starting on line 10",
     "output_type": "error",
     "traceback": [
      "LoadError: UndefVarError: X not defined\nwhile loading In[3], in expression starting on line 10",
      "",
      " in getindex at /Users/cedric/.julia/v0.4/PyCall/src/PyCall.jl:229",
      " in pysequence_query at /Users/cedric/.julia/v0.4/PyCall/src/conversions.jl:717",
      " [inlined code] from /Users/cedric/.julia/v0.4/PyCall/src/conversions.jl:733",
      " in pytype_query at /Users/cedric/.julia/v0.4/PyCall/src/conversions.jl:755",
      " in convert at /Users/cedric/.julia/v0.4/PyCall/src/conversions.jl:782",
      " in pycall at /Users/cedric/.julia/v0.4/PyCall/src/PyCall.jl:364",
      " in call at /Users/cedric/.julia/v0.4/PyCall/src/PyCall.jl:373",
      " in close_queued_figs at /Users/cedric/.julia/v0.4/PyPlot/src/PyPlot.jl:401"
     ]
    }
   ],
   "source": [
    "# Plot the decision boundaries\n",
    "figure(figsize=(10, 5))\n",
    "\n",
    "subplot(121)\n",
    "\n",
    "plot_colors = \"br\"\n",
    "plot_step = 0.02\n",
    "class_names = \"AB\"\n",
    "\n",
    "x_min, x_max = minimum(X[:, 1]) - 1, maximum(X[:, 1]) + 1\n",
    "y_min, y_max = minimum(X[:, 2]) - 1, maximum(X[:, 2]) + 1\n",
    "xx, yy = meshgrid(x_min:plot_step:x_max, y_min:plot_step:y_max)\n",
    "\n",
    "Z = predict(bdt, hcat(xx[:], yy[:]));\n",
    "\n",
    "Z = reshape(Z, size(xx)...);\n",
    "\n",
    "cs = contourf(xx, yy, Z, cmap=get_cmap(\"Paired\"))\n",
    "plt[:axis](\"tight\")\n",
    "\n",
    "# Plot the training set\n",
    "for (i, n, c) in zip(0:1, class_names, plot_colors)\n",
    "    idx = find(y .== i)\n",
    "    scatter(X[idx, 1], X[idx, 2],\n",
    "            c=string(c), cmap=get_cmap(\"Paired\"),\n",
    "            label=\"Class $n\")\n",
    "end\n",
    "\n",
    "xlim(x_min, x_max)\n",
    "ylim(y_min, y_max)\n",
    "legend(loc=\"upper right\")\n",
    "xlabel(\"x\")\n",
    "ylabel(\"y\")\n",
    "title(\"Decision Boundary\")\n",
    "\n",
    "subplot(122)\n",
    "# Plot the two-class decision scores\n",
    "twoclass_output = decision_function(bdt, X)\n",
    "plot_range = (minimum(twoclass_output), maximum(twoclass_output))\n",
    "subplot(122)\n",
    "for (i, n, c) in zip(0:1, class_names, plot_colors)\n",
    "    plt[:hist](twoclass_output[y .== i],\n",
    "               bins=10,\n",
    "               range=plot_range,\n",
    "               facecolor=string(c),\n",
    "               label=\"Class $n\",\n",
    "               alpha=.5)\n",
    "end\n",
    "\n",
    "x1, x2, y1, y2 = axis()\n",
    "axis((x1, x2, y1, y2 * 1.2))\n",
    "legend(loc=\"upper right\")\n",
    "ylabel(\"Samples\")\n",
    "xlabel(\"Score\")\n",
    "title(\"Decision Scores\")\n",
    "\n",
    "tight_layout()\n",
    "subplots_adjust(wspace=0.35)"
   ]
  }
 ],
 "metadata": {
  "kernelspec": {
   "display_name": "Julia 0.4.3",
   "language": "julia",
   "name": "julia-0.4"
  },
  "language_info": {
   "file_extension": ".jl",
   "mimetype": "application/julia",
   "name": "julia",
   "version": "0.4.3"
  }
 },
 "nbformat": 4,
 "nbformat_minor": 0
}
