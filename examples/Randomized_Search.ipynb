{
 "cells": [
  {
   "cell_type": "markdown",
   "metadata": {},
   "source": [
    "# Comparing randomized search and grid search for hyperparameter estimation"
   ]
  },
  {
   "cell_type": "markdown",
   "metadata": {},
   "source": [
    "Adapted from http://scikit-learn.org/stable/auto_examples/model_selection/randomized_search.html"
   ]
  },
  {
   "cell_type": "markdown",
   "metadata": {},
   "source": [
    "Compare randomized search and grid search for optimizing hyperparameters of a random forest. All parameters that influence the learning are searched simultaneously (except for the number of estimators, which poses a time / quality tradeoff).\n",
    "\n",
    "The randomized search and the grid search explore exactly the same space of parameters. The result in parameter settings is quite similar, while the run time for randomized search is drastically lower.\n",
    "\n",
    "The performance is slightly worse for the randomized search, though this is most likely a noise effect and would not carry over to a held-out test set.\n",
    "\n",
    "Note that in practice, one would not search over this many different parameters simultaneously using grid search, but pick only the ones deemed most important."
   ]
  },
  {
   "cell_type": "code",
   "execution_count": 1,
   "metadata": {
    "collapsed": false
   },
   "outputs": [],
   "source": [
    "using ScikitLearn\n",
    "using PyCall: @pyimport\n",
    "\n",
    "@pyimport scipy.stats as stats\n",
    "using ScikitLearn.GridSearch: GridSearchCV, RandomizedSearchCV\n",
    "\n",
    "@sk_import datasets: load_digits\n",
    "@sk_import ensemble: RandomForestClassifier"
   ]
  },
  {
   "cell_type": "code",
   "execution_count": 2,
   "metadata": {
    "collapsed": false
   },
   "outputs": [
    {
     "name": "stdout",
     "output_type": "stream",
     "text": [
      "RandomizedSearchCV took 9.26 seconds for 20 candidates, parameter settings.\n",
      "Model with rank:1\n",
      "Mean validation score: 0.923 (std: 0.003)\n",
      "Parameters: Dict{Symbol,Any}(:max_features=>5,:bootstrap=>true,:min_samples_split=>6,:max_depth=>nothing,:criterion=>\"entropy\",:min_samples_leaf=>2)\n",
      "\n",
      "Model with rank:2\n",
      "Mean validation score: 0.922 (std: 0.023)\n",
      "Parameters: Dict{Symbol,Any}(:max_features=>10,:bootstrap=>false,:min_samples_split=>3,:max_depth=>nothing,:criterion=>\"gini\",:min_samples_leaf=>3)\n",
      "\n",
      "Model with rank:3\n",
      "Mean validation score: 0.912 (std: 0.026)\n",
      "Parameters: Dict{Symbol,Any}(:max_features=>8,:bootstrap=>true,:min_samples_split=>6,:max_depth=>nothing,:criterion=>\"entropy\",:min_samples_leaf=>5)\n",
      "\n",
      "GridSearchCV took 37.70 seconds for 216 candidate parameter settings.\n",
      "Model with rank:1\n",
      "Mean validation score: 0.934 (std: 0.019)\n",
      "Parameters: Dict{Symbol,Any}(:max_features=>10,:bootstrap=>false,:min_samples_split=>1,:max_depth=>nothing,:min_samples_leaf=>1,:criterion=>\"gini\")\n",
      "\n",
      "Model with rank:2\n",
      "Mean validation score: 0.933 (std: 0.013)\n",
      "Parameters: Dict{Symbol,Any}(:max_features=>10,:bootstrap=>false,:min_samples_split=>3,:max_depth=>nothing,:min_samples_leaf=>1,:criterion=>\"gini\")\n",
      "\n",
      "Model with rank:3\n",
      "Mean validation score: 0.932 (std: 0.007)\n",
      "Parameters: Dict{Symbol,Any}(:max_features=>10,:bootstrap=>true,:min_samples_split=>3,:max_depth=>nothing,:min_samples_leaf=>1,:criterion=>\"entropy\")\n",
      "\n"
     ]
    }
   ],
   "source": [
    "# get some data\n",
    "digits = load_digits()\n",
    "X, y = digits[\"data\"], digits[\"target\"]\n",
    "\n",
    "# build a classifier\n",
    "clf = RandomForestClassifier(n_estimators=20)\n",
    "\n",
    "# Utility function to report best scores\n",
    "function report(grid_scores, n_top=3)\n",
    "    top_scores = sort(grid_scores, by=x->x.mean_validation_score, rev=true)[1:n_top]\n",
    "    for (i, score) in enumerate(top_scores)\n",
    "        println(\"Model with rank:$i\")\n",
    "        @printf(\"Mean validation score: %.3f (std: %.3f)\\n\",\n",
    "                score.mean_validation_score,\n",
    "                std(score.cv_validation_scores))\n",
    "        println(\"Parameters: $(score.parameters)\")\n",
    "        println(\"\")\n",
    "    end\n",
    "end\n",
    "\n",
    "# specify parameters and distributions to sample from\n",
    "param_dist = Dict(\"max_depth\"=> [3, nothing],\n",
    "        \"max_features\"=> stats.randint(1, 11),\n",
    "        \"min_samples_split\"=> stats.randint(1, 11),\n",
    "        \"min_samples_leaf\"=> stats.randint(1, 11),\n",
    "        \"bootstrap\"=> [true, false],\n",
    "              \"criterion\"=> [\"gini\", \"entropy\"])\n",
    "\n",
    "# run randomized search\n",
    "n_iter_search = 20\n",
    "random_search = RandomizedSearchCV(clf, param_dist,\n",
    "                                   n_iter=n_iter_search)\n",
    "\n",
    "start = time()\n",
    "fit!(random_search, X, y)\n",
    "@printf(\"RandomizedSearchCV took %.2f seconds for %d candidates, parameter settings.\\n\", (time() - start), n_iter_search)\n",
    "\n",
    "report(random_search.grid_scores_)\n",
    "\n",
    "# use a full grid over all parameters\n",
    "param_grid = Dict(\"max_depth\"=> [3, nothing],\n",
    "              \"max_features\"=> [1, 3, 10],\n",
    "              \"min_samples_split\"=> [1, 3, 10],\n",
    "              \"min_samples_leaf\"=> [1, 3, 10],\n",
    "              \"bootstrap\"=>[true, false],\n",
    "              \"criterion\"=> [\"gini\", \"entropy\"])\n",
    "\n",
    "# run grid search\n",
    "grid_search = GridSearchCV(clf, param_grid)\n",
    "\n",
    "start = time()\n",
    "fit!(grid_search, X, y)\n",
    "\n",
    "@printf(\"GridSearchCV took %.2f seconds for %d candidate parameter settings.\\n\",\n",
    "time() - start, length(grid_search.grid_scores_))\n",
    "\n",
    "report(grid_search.grid_scores_)"
   ]
  }
 ],
 "metadata": {
  "kernelspec": {
   "display_name": "Julia 0.4.5",
   "language": "julia",
   "name": "julia-0.4"
  },
  "language_info": {
   "file_extension": ".jl",
   "mimetype": "application/julia",
   "name": "julia",
   "version": "0.4.5"
  }
 },
 "nbformat": 4,
 "nbformat_minor": 0
}
