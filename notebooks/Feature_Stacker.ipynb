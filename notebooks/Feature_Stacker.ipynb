{
 "cells": [
  {
   "cell_type": "markdown",
   "metadata": {},
   "source": [
    "Adapted from http://scikit-learn.org/stable/auto_examples/feature_stacker.html"
   ]
  },
  {
   "cell_type": "code",
   "execution_count": 1,
   "metadata": {
    "collapsed": false
   },
   "outputs": [
    {
     "name": "stderr",
     "output_type": "stream",
     "text": [
      "WARNING: [a,b] concatenation is deprecated; use [a;b] instead\n",
      " in depwarn at deprecated.jl:73\n",
      " in oldstyle_vcat_warning at /Applications/Julia-0.4.3.app/Contents/Resources/julia/lib/julia/sys.dylib\n",
      " in vect at abstractarray.jl:38\n",
      " in find_in_path at /Users/cedric/.julia/v0.4/Autoreload/src/files.jl:11\n",
      " in find_file at /Users/cedric/.julia/v0.4/Autoreload/src/files.jl:40\n",
      " in arequire at /Users/cedric/.julia/v0.4/Autoreload/src/Autoreload.jl:50\n",
      " in include at /Applications/Julia-0.4.3.app/Contents/Resources/julia/lib/julia/sys.dylib\n",
      " in include_from_node1 at /Applications/Julia-0.4.3.app/Contents/Resources/julia/lib/julia/sys.dylib\n",
      " in include_string at loading.jl:266\n",
      " in execute_request_0x535c5df2 at /Users/cedric/.julia/v0.4/IJulia/src/execute_request.jl:177\n",
      " in eventloop at /Users/cedric/.julia/v0.4/IJulia/src/IJulia.jl:141\n",
      " in anonymous at task.jl:447\n",
      "while loading /Users/cedric/Programa/Sklearn/notebooks/preamble.jl, in expression starting on line 5\n",
      "WARNING: `require` is deprecated, use `using` or `import` instead\n"
     ]
    }
   ],
   "source": [
    "include(\"preamble.jl\")"
   ]
  },
  {
   "cell_type": "code",
   "execution_count": 3,
   "metadata": {
    "collapsed": true
   },
   "outputs": [],
   "source": [
    "using Skcore: GridSearchCV"
   ]
  },
  {
   "cell_type": "code",
   "execution_count": null,
   "metadata": {
    "collapsed": false
   },
   "outputs": [],
   "source": [
    "# Author: Andreas Mueller <amueller@ais.uni-bonn.de>\n",
    "#\n",
    "# License: BSD 3 clause\n",
    "\n",
    "@pyimport2 sklearn.pipeline: (Pipeline, FeatureUnion)\n",
    "@pyimport2 sklearn.svm: SVC\n",
    "@pyimport2 sklearn.datasets: load_iris\n",
    "@pyimport2 sklearn.decomposition: PCA\n",
    "@pyimport2 sklearn.feature_selection: SelectKBest\n",
    "\n",
    "iris = load_iris()\n",
    "\n",
    "X, y = iris[\"data\"], iris[\"target\"]\n",
    "\n",
    "# This dataset is way to high-dimensional. Better do PCA:\n",
    "pca = PCA(n_components=2)\n",
    "\n",
    "# Maybe some original features where good, too?\n",
    "selection = SelectKBest(k=1)\n",
    "\n",
    "# Build estimator from PCA and Univariate selection:\n",
    "\n",
    "combined_features = FeatureUnion([(\"pca\", pca), (\"univ_select\", selection)])\n",
    "\n",
    "# Use combined features to transform dataset:\n",
    "X_features = transform(fit!(combined_features, X, y), X)\n",
    "\n",
    "svm = SVC(kernel=\"linear\")\n",
    "\n",
    "# Do grid search over k, n_components and C:\n",
    "\n",
    "pipeline = Pipeline([(\"features\", combined_features), (\"svm\", svm)])\n",
    "\n",
    "param_grid = Dict(:features__pca__n_components=>[1, 2, 3],\n",
    "                  :features__univ_select__k=>[1, 2],\n",
    "                  :svm__C=>[0.1, 1, 10])\n",
    "\n",
    "grid_search = GridSearchCV(pipeline, param_grid; verbose=10, refit=true)\n",
    "fit!(grid_search, X, y)\n",
    "print(grid_search.best_estimator_)"
   ]
  }
 ],
 "metadata": {
  "kernelspec": {
   "display_name": "Julia 0.4.3",
   "language": "julia",
   "name": "julia-0.4"
  },
  "language_info": {
   "file_extension": ".jl",
   "mimetype": "application/julia",
   "name": "julia",
   "version": "0.4.3"
  }
 },
 "nbformat": 4,
 "nbformat_minor": 0
}
