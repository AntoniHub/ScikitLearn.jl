{
 "cells": [
  {
   "cell_type": "markdown",
   "metadata": {},
   "source": [
    "# Plotting Cross-Validated Predictions"
   ]
  },
  {
   "cell_type": "markdown",
   "metadata": {},
   "source": [
    "Adapted from http://scikit-learn.org/stable/auto_examples/plot_cv_predict.html"
   ]
  },
  {
   "cell_type": "markdown",
   "metadata": {},
   "source": [
    "This example shows how to use cross_val_predict to visualize prediction errors."
   ]
  },
  {
   "cell_type": "code",
   "execution_count": 1,
   "metadata": {
    "collapsed": false
   },
   "outputs": [
    {
     "name": "stderr",
     "output_type": "stream",
     "text": [
      "WARNING: [a,b] concatenation is deprecated; use [a;b] instead\n",
      " in depwarn at deprecated.jl:73\n",
      " in oldstyle_vcat_warning at /Applications/Julia-0.4.3.app/Contents/Resources/julia/lib/julia/sys.dylib\n",
      " in vect at abstractarray.jl:38\n",
      " in find_in_path at /Users/cedric/.julia/v0.4/Autoreload/src/files.jl:11\n",
      " in find_file at /Users/cedric/.julia/v0.4/Autoreload/src/files.jl:40\n",
      " in arequire at /Users/cedric/.julia/v0.4/Autoreload/src/Autoreload.jl:50\n",
      " in include at /Applications/Julia-0.4.3.app/Contents/Resources/julia/lib/julia/sys.dylib\n",
      " in include_from_node1 at /Applications/Julia-0.4.3.app/Contents/Resources/julia/lib/julia/sys.dylib\n",
      " in include_string at loading.jl:266\n",
      " in execute_request_0x535c5df2 at /Users/cedric/.julia/v0.4/IJulia/src/execute_request.jl:177\n",
      " in eventloop at /Users/cedric/.julia/v0.4/IJulia/src/IJulia.jl:141\n",
      " in anonymous at task.jl:447\n",
      "while loading /Users/cedric/Programa/Sklearn/notebooks/preamble.jl, in expression starting on line 7\n",
      "WARNING: `require` is deprecated, use `using` or `import` instead\n"
     ]
    }
   ],
   "source": [
    "#using ScikitLearn\n",
    "\n",
    "include(\"../notebooks/preamble.jl\")\n",
    "\n",
    "using ScikitLearn\n",
    "using ScikitLearn.CrossValidation: cross_val_predict\n",
    "\n",
    "@sk_import datasets: load_boston\n",
    "#@sk_import cross_validation: cross_val_predict\n",
    "@sk_import linear_model: LinearRegression\n",
    "using PyPlot"
   ]
  },
  {
   "cell_type": "code",
   "execution_count": 10,
   "metadata": {
    "collapsed": false
   },
   "outputs": [
    {
     "name": "stderr",
     "output_type": "stream",
     "text": [
      "WARNING: redefining constant mean_squared_error_scorer\n",
      "WARNING: redefining constant SCORERS\n"
     ]
    },
    {
     "name": "stdout",
     "output_type": "stream",
     "text": [
      "size(preds_blocks) = (3,)"
     ]
    },
    {
     "ename": "LoadError",
     "evalue": "LoadError: PyError (:PyObject_Call) <type 'exceptions.ValueError'>\nValueError(u'x and y must be the same size',)\n  File \"//anaconda/lib/python2.7/site-packages/matplotlib/pyplot.py\", line 3200, in scatter\n    linewidths=linewidths, verts=verts, **kwargs)\n  File \"//anaconda/lib/python2.7/site-packages/matplotlib/axes/_axes.py\", line 3591, in scatter\n    raise ValueError(\"x and y must be the same size\")\n\nwhile loading In[10], in expression starting on line 9",
     "output_type": "error",
     "traceback": [
      "LoadError: PyError (:PyObject_Call) <type 'exceptions.ValueError'>\nValueError(u'x and y must be the same size',)\n  File \"//anaconda/lib/python2.7/site-packages/matplotlib/pyplot.py\", line 3200, in scatter\n    linewidths=linewidths, verts=verts, **kwargs)\n  File \"//anaconda/lib/python2.7/site-packages/matplotlib/axes/_axes.py\", line 3591, in scatter\n    raise ValueError(\"x and y must be the same size\")\n\nwhile loading In[10], in expression starting on line 9",
      "",
      " in getindex at /Users/cedric/.julia/v0.4/PyCall/src/PyCall.jl:229",
      " in pysequence_query at /Users/cedric/.julia/v0.4/PyCall/src/conversions.jl:717",
      " [inlined code] from /Users/cedric/.julia/v0.4/PyCall/src/conversions.jl:733",
      " in pytype_query at /Users/cedric/.julia/v0.4/PyCall/src/conversions.jl:755",
      " in convert at /Users/cedric/.julia/v0.4/PyCall/src/conversions.jl:782",
      " in pycall at /Users/cedric/.julia/v0.4/PyCall/src/PyCall.jl:364",
      " in call at /Users/cedric/.julia/v0.4/PyCall/src/PyCall.jl:373",
      " in close_queued_figs at /Users/cedric/.julia/v0.4/PyPlot/src/PyPlot.jl:401"
     ]
    },
    {
     "name": "stdout",
     "output_type": "stream",
     "text": [
      "\n",
      "size(p) = (10,)\n"
     ]
    }
   ],
   "source": [
    "lr = LinearRegression()\n",
    "boston = load_boston()\n",
    "y = boston[\"target\"]\n",
    "\n",
    "# cross_val_predict returns an array of the same size as `y` where each entry\n",
    "# is a prediction obtained by cross validated:\n",
    "predicted = cross_val_predict(lr, boston[\"data\"], y, cv=10)\n",
    "\n",
    "scatter(y, predicted)\n",
    "plot([minimum(y), maximum(y)], [minimum(y), maximum(y)], \"k--\", lw=4)\n",
    "xlabel(\"Measured\")\n",
    "ylabel(\"Predicted\")"
   ]
  }
 ],
 "metadata": {
  "kernelspec": {
   "display_name": "Julia 0.4.3",
   "language": "julia",
   "name": "julia-0.4"
  },
  "language_info": {
   "file_extension": ".jl",
   "mimetype": "application/julia",
   "name": "julia",
   "version": "0.4.3"
  }
 },
 "nbformat": 4,
 "nbformat_minor": 0
}
