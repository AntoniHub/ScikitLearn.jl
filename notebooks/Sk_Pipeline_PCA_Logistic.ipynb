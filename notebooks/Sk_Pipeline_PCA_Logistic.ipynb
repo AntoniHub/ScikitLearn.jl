{
 "cells": [
  {
   "cell_type": "code",
   "execution_count": 1,
   "metadata": {
    "collapsed": false
   },
   "outputs": [
    {
     "name": "stderr",
     "output_type": "stream",
     "text": [
      "WARNING: [a,b] concatenation is deprecated; use [a;b] instead\n",
      " in depwarn at deprecated.jl:73\n",
      " in oldstyle_vcat_warning at /Applications/Julia-0.4.3.app/Contents/Resources/julia/lib/julia/sys.dylib\n",
      " in vect at abstractarray.jl:38\n",
      " in find_in_path at /Users/cedric/.julia/v0.4/Autoreload/src/files.jl:11\n",
      " in find_file at /Users/cedric/.julia/v0.4/Autoreload/src/files.jl:40\n",
      " in arequire at /Users/cedric/.julia/v0.4/Autoreload/src/Autoreload.jl:50\n",
      " in include at /Applications/Julia-0.4.3.app/Contents/Resources/julia/lib/julia/sys.dylib\n",
      " in include_from_node1 at /Applications/Julia-0.4.3.app/Contents/Resources/julia/lib/julia/sys.dylib\n",
      " in include_string at loading.jl:266\n",
      " in execute_request_0x535c5df2 at /Users/cedric/.julia/v0.4/IJulia/src/execute_request.jl:177\n",
      " in eventloop at /Users/cedric/.julia/v0.4/IJulia/src/IJulia.jl:141\n",
      " in anonymous at task.jl:447\n",
      "while loading /Users/cedric/Programa/Sklearn/notebooks/preamble.jl, in expression starting on line 5\n",
      "WARNING: `require` is deprecated, use `using` or `import` instead\n"
     ]
    },
    {
     "data": {
      "text/plain": [
       "PyObject <class 'sklearn.grid_search.GridSearchCV'>"
      ]
     },
     "execution_count": 1,
     "metadata": {},
     "output_type": "execute_result"
    },
    {
     "name": "stderr",
     "output_type": "stream",
     "text": [
      " in depwarn at deprecated.jl:73\n",
      " [inlined code] from deprecated.jl:694\n",
      " in require at no file:0\n",
      " in arequire at /Users/cedric/.julia/v0.4/Autoreload/src/Autoreload.jl:87\n",
      " in include at /Applications/Julia-0.4.3.app/Contents/Resources/julia/lib/julia/sys.dylib\n",
      " in include_from_node1 at /Applications/Julia-0.4.3.app/Contents/Resources/julia/lib/julia/sys.dylib\n",
      " in include_string at loading.jl:266\n",
      " in execute_request_0x535c5df2 at /Users/cedric/.julia/v0.4/IJulia/src/execute_request.jl:177\n",
      " in eventloop at /Users/cedric/.julia/v0.4/IJulia/src/IJulia.jl:141\n",
      " in anonymous at task.jl:447\n",
      "while loading /Users/cedric/Programa/Sklearn/notebooks/preamble.jl, in expression starting on line 5\n"
     ]
    }
   ],
   "source": [
    "include(\"preamble.jl\")\n",
    "\n",
    "@pyimport sklearn\n",
    "\n",
    "@pyimport2 sklearn: (linear_model, decomposition, datasets, pipeline)\n",
    "@pyimport2 sklearn.grid_search: GridSearchCV"
   ]
  },
  {
   "cell_type": "code",
   "execution_count": 2,
   "metadata": {
    "collapsed": false
   },
   "outputs": [
    {
     "name": "stderr",
     "output_type": "stream",
     "text": [
      "//anaconda/lib/python2.7/site-packages/sklearn/cross_validation.py:1601: DeprecationWarning: check_cv will return indices instead of boolean masks from 0.17\n",
      "  'masks from 0.17', DeprecationWarning)\n",
      "//anaconda/lib/python2.7/site-packages/sklearn/cross_validation.py:69: DeprecationWarning: The indices parameter is deprecated and will be removed (assumed True) in 0.17\n",
      "  stacklevel=1)\n"
     ]
    },
    {
     "ename": "LoadError",
     "evalue": "LoadError: UndefVarError: kwargify not defined\nwhile loading In[2], in expression starting on line 35",
     "output_type": "error",
     "traceback": [
      "LoadError: UndefVarError: kwargify not defined\nwhile loading In[2], in expression starting on line 35",
      "",
      " in getindex at /Users/cedric/.julia/v0.4/PyCall/src/PyCall.jl:229",
      " in pysequence_query at /Users/cedric/.julia/v0.4/PyCall/src/conversions.jl:717",
      " [inlined code] from /Users/cedric/.julia/v0.4/PyCall/src/conversions.jl:733",
      " in pytype_query at /Users/cedric/.julia/v0.4/PyCall/src/conversions.jl:755",
      " in convert at /Users/cedric/.julia/v0.4/PyCall/src/conversions.jl:782",
      " in pycall at /Users/cedric/.julia/v0.4/PyCall/src/PyCall.jl:364",
      " in call at /Users/cedric/.julia/v0.4/PyCall/src/PyCall.jl:373",
      " in close_queued_figs at /Users/cedric/.julia/v0.4/PyPlot/src/PyPlot.jl:401"
     ]
    }
   ],
   "source": [
    "# Original Python Code source: Gaël Varoquaux\n",
    "# License: BSD 3 clause\n",
    "\n",
    "logistic = Sklearn.LinearModels.LogisticRegression()\n",
    "\n",
    "pca = decomposition.PCA()\n",
    "pipe = Sklearn.Pipelines.Pipeline([(\"pca\", pca), (\"logistic\", logistic)])\n",
    "\n",
    "digits = datasets.load_digits()\n",
    "X_digits = digits[\"data\"]\n",
    "y_digits = digits[\"target\"]\n",
    "\n",
    "###############################################################################\n",
    "# Plot the PCA spectrum\n",
    "fit!(pca, X_digits)\n",
    "\n",
    "figure(1, figsize=(4, 3))\n",
    "clf()\n",
    "axes([.2, .2, .7, .7])\n",
    "plot(pca[:explained_variance_], linewidth=2)\n",
    "axis(\"tight\")\n",
    "xlabel(\"n_components\")\n",
    "ylabel(\"explained_variance_\")\n",
    "\n",
    "###############################################################################\n",
    "# Prediction\n",
    "\n",
    "n_components = [20, 40, 64]\n",
    "Cs = logspace(-4, 4, 3)\n",
    "\n",
    "#Parameters of pipelines can be set using ‘__’ separated parameter names:\n",
    "estimator = Sklearn.GridSearchCV(pipe,\n",
    "                         Dict(\"pca__n_components\"=>n_components,\n",
    "                              \"logistic__C\"=>Cs))\n",
    "fit!(estimator, X_digits, y_digits)\n",
    "\n",
    "#@show estimator.best_estimator_[:named_steps][\"pca\"][:n_components]\n",
    "#@show jl_estimator.best_estimator_[:named_steps][\"pca\"][:n_components]\n",
    "\n",
    "axvline(Sklearn.named_steps(estimator.best_estimator_)[\"pca\"][:n_components],\n",
    "            linestyle=\":\", label=\"n_components chosen\")\n",
    "legend(prop=Dict(\"size\"=>12))"
   ]
  }
 ],
 "metadata": {
  "kernelspec": {
   "display_name": "Julia 0.4.3",
   "language": "julia",
   "name": "julia-0.4"
  },
  "language_info": {
   "file_extension": ".jl",
   "mimetype": "application/julia",
   "name": "julia",
   "version": "0.4.3"
  }
 },
 "nbformat": 4,
 "nbformat_minor": 0
}
