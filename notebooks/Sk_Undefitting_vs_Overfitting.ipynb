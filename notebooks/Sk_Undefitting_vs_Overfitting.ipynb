{
 "cells": [
  {
   "cell_type": "markdown",
   "metadata": {},
   "source": [
    "TODO: \n",
    "\n",
    "I'm afraid that I'll have to translate `get_scorer` and `scorer.py` as well. It's not the end of the world, just a few hundred lines. We need to do that because the scorers accept `estimator`. They're pretty hollow otherwise, it should not be too hard."
   ]
  },
  {
   "cell_type": "markdown",
   "metadata": {},
   "source": [
    "Re. Module loading: I don't have a great solution yet. I'm leaning towards having a separate module for each main Python module (eg. `sk_linear_model`). Or maybe I can @pyimport everything to make the hierarchy work and use `@reexport`. `@require` is also interesting."
   ]
  },
  {
   "cell_type": "markdown",
   "metadata": {},
   "source": [
    "Is there some non-CV criterion by which we could identify overfitting? Mmmm"
   ]
  },
  {
   "cell_type": "markdown",
   "metadata": {},
   "source": [
    "# Underfitting vs. Overfitting"
   ]
  },
  {
   "cell_type": "markdown",
   "metadata": {},
   "source": [
    "Adapted from http://scikit-learn.org/stable/auto_examples/model_selection/plot_underfitting_overfitting.html"
   ]
  },
  {
   "cell_type": "markdown",
   "metadata": {},
   "source": [
    "This example demonstrates the problems of underfitting and overfitting and how we can use linear regression with polynomial features to approximate nonlinear functions. The plot shows the function that we want to approximate, which is a part of the cosine function. In addition, the samples from the real function and the approximations of different models are displayed. The models have polynomial features of different degrees. We can see that a linear function (polynomial with degree 1) is not sufficient to fit the training samples. This is called underfitting. A polynomial of degree 4 approximates the true function almost perfectly. However, for higher degrees the model will overfit the training data, i.e. it learns the noise of the training data. We evaluate quantitatively overfitting / underfitting by using cross-validation. We calculate the mean squared error (MSE) on the validation set, the higher, the less likely the model generalizes correctly from the training data."
   ]
  },
  {
   "cell_type": "code",
   "execution_count": 1,
   "metadata": {
    "collapsed": false
   },
   "outputs": [
    {
     "name": "stderr",
     "output_type": "stream",
     "text": [
      "WARNING: [a,b] concatenation is deprecated; use [a;b] instead\n",
      " in depwarn at deprecated.jl:73\n",
      " in oldstyle_vcat_warning at /Applications/Julia-0.4.3.app/Contents/Resources/julia/lib/julia/sys.dylib\n",
      " in vect at abstractarray.jl:38\n",
      " in find_in_path at /Users/cedric/.julia/v0.4/Autoreload/src/files.jl:11\n",
      " in find_file at /Users/cedric/.julia/v0.4/Autoreload/src/files.jl:40\n",
      " in arequire at /Users/cedric/.julia/v0.4/Autoreload/src/Autoreload.jl:50\n",
      " in include at /Applications/Julia-0.4.3.app/Contents/Resources/julia/lib/julia/sys.dylib\n",
      " in include_from_node1 at /Applications/Julia-0.4.3.app/Contents/Resources/julia/lib/julia/sys.dylib\n",
      " in include_string at loading.jl:266\n",
      " in execute_request_0x535c5df2 at /Users/cedric/.julia/v0.4/IJulia/src/execute_request.jl:177\n",
      " in eventloop at /Users/cedric/.julia/v0.4/IJulia/src/IJulia.jl:141\n",
      " in anonymous at task.jl:447\n",
      "while loading /Users/cedric/Programa/Sklearn/notebooks/preamble.jl, in expression starting on line 5\n",
      "WARNING: `require` is deprecated, use `using` or `import` instead\n"
     ]
    }
   ],
   "source": [
    "include(\"preamble.jl\")"
   ]
  },
  {
   "cell_type": "code",
   "execution_count": 2,
   "metadata": {
    "collapsed": false
   },
   "outputs": [
    {
     "name": "stderr",
     "output_type": "stream",
     "text": [
      " in depwarn at deprecated.jl:73\n",
      " [inlined code] from deprecated.jl:694\n",
      " in require at no file:0\n",
      " in arequire at /Users/cedric/.julia/v0.4/Autoreload/src/Autoreload.jl:87\n",
      " in include at /Applications/Julia-0.4.3.app/Contents/Resources/julia/lib/julia/sys.dylib\n",
      " in include_from_node1 at /Applications/Julia-0.4.3.app/Contents/Resources/julia/lib/julia/sys.dylib\n",
      " in include_string at loading.jl:266\n",
      " in execute_request_0x535c5df2 at /Users/cedric/.julia/v0.4/IJulia/src/execute_request.jl:177\n",
      " in eventloop at /Users/cedric/.julia/v0.4/IJulia/src/IJulia.jl:141\n",
      " in anonymous at task.jl:447\n",
      "while loading /Users/cedric/Programa/Sklearn/notebooks/preamble.jl, in expression starting on line 5\n"
     ]
    }
   ],
   "source": [
    "#using Sklearn: Pipeline"
   ]
  },
  {
   "cell_type": "code",
   "execution_count": 3,
   "metadata": {
    "collapsed": false
   },
   "outputs": [
    {
     "data": {
      "text/plain": [
       "__anon__"
      ]
     },
     "execution_count": 3,
     "metadata": {},
     "output_type": "execute_result"
    }
   ],
   "source": [
    "@pyimport2 sklearn.pipeline: Pipeline\n",
    "@pyimport2 sklearn.preprocessing: PolynomialFeatures\n",
    "@pyimport2 sklearn.linear_model: LinearRegression\n",
    "@pyimport2 sklearn: cross_validation"
   ]
  },
  {
   "cell_type": "code",
   "execution_count": 4,
   "metadata": {
    "collapsed": false
   },
   "outputs": [
    {
     "name": "stderr",
     "output_type": "stream",
     "text": [
      "WARNING: Base.None is deprecated, use Union{} instead.\n",
      "  likely near In[4]:11\n",
      "WARNING: Base.None is deprecated, use Union{} instead.\n",
      "  likely near In[4]:11\n",
      "WARNING: Base.None is deprecated, use Union{} instead.\n",
      "  likely near In[4]:11\n",
      "WARNING: Base.None is deprecated, use Union{} instead.\n",
      "  likely near In[4]:11\n",
      "WARNING: Base.None is deprecated, use Union{} instead.\n",
      "  likely near In[4]:11\n",
      "WARNING: Base.None is deprecated, use Union{} instead.\n",
      "  likely near In[4]:11\n"
     ]
    },
    {
     "ename": "LoadError",
     "evalue": "LoadError: ArgumentError: get_scorer does not accept string arguments - try using a Symbol instead\nwhile loading In[4], in expression starting on line 11",
     "output_type": "error",
     "traceback": [
      "LoadError: ArgumentError: get_scorer does not accept string arguments - try using a Symbol instead\nwhile loading In[4], in expression starting on line 11",
      "",
      " in getindex at /Users/cedric/.julia/v0.4/PyCall/src/PyCall.jl:229",
      " in pysequence_query at /Users/cedric/.julia/v0.4/PyCall/src/conversions.jl:717",
      " [inlined code] from /Users/cedric/.julia/v0.4/PyCall/src/conversions.jl:733",
      " in pytype_query at /Users/cedric/.julia/v0.4/PyCall/src/conversions.jl:755",
      " in convert at /Users/cedric/.julia/v0.4/PyCall/src/conversions.jl:782",
      " in pycall at /Users/cedric/.julia/v0.4/PyCall/src/PyCall.jl:364",
      " in call at /Users/cedric/.julia/v0.4/PyCall/src/PyCall.jl:373",
      " in close_queued_figs at /Users/cedric/.julia/v0.4/PyPlot/src/PyPlot.jl:401"
     ]
    }
   ],
   "source": [
    "srand(2)\n",
    "\n",
    "n_samples = 30\n",
    "degrees = [1, 4, 15]\n",
    "\n",
    "true_fun(X) = cos(1.5 * pi * X)\n",
    "X = sort(rand(n_samples))\n",
    "y = true_fun(X) + randn(n_samples) * 0.1\n",
    "\n",
    "figure(figsize=(14, 5))\n",
    "for (i, degree) in enumerate(degrees)\n",
    "    ax = subplot(1, length(degrees), i)\n",
    "    setp(ax, xticks=(), yticks=())\n",
    "\n",
    "    polynomial_features = PolynomialFeatures(degree=degree, include_bias=false)\n",
    "    linear_regression = LinearRegression()\n",
    "    pipeline = Sklearn.Pipeline([(\"polynomial_features\", polynomial_features),\n",
    "                                 (\"linear_regression\", linear_regression)])\n",
    "    fit!(pipeline, X'', y)\n",
    "\n",
    "    # Evaluate the models using crossvalidation\n",
    "    scores = Sklearn.cross_val_score(pipeline, X'', y, scoring=\"mean_squared_error\", cv=10)\n",
    "\n",
    "    X_test = linspace(0, 1, 100)\n",
    "    plot(X_test, predict(pipeline, X_test''), label=\"Model\")\n",
    "    plot(X_test, true_fun(X_test), label=\"True function\")\n",
    "    scatter(X, y, label=\"Samples\")\n",
    "    xlabel(\"x\")\n",
    "    ylabel(\"y\")\n",
    "    xlim((0, 1))\n",
    "    ylim((-2, 2))\n",
    "    legend(loc=\"best\")\n",
    "    title(@sprintf(\"Degree %d\\nMSE = %.2e +/- %.2e\", degree, -mean(scores), std(scores)))\n",
    "end"
   ]
  }
 ],
 "metadata": {
  "kernelspec": {
   "display_name": "Julia 0.4.3",
   "language": "julia",
   "name": "julia-0.4"
  },
  "language_info": {
   "file_extension": ".jl",
   "mimetype": "application/julia",
   "name": "julia",
   "version": "0.4.3"
  }
 },
 "nbformat": 4,
 "nbformat_minor": 0
}
