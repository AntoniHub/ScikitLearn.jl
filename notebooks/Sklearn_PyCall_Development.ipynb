{
 "cells": [
  {
   "cell_type": "markdown",
   "metadata": {},
   "source": [
    "February 21, 2016: initial sklearn development\n",
    "\n",
    "---"
   ]
  },
  {
   "cell_type": "markdown",
   "metadata": {},
   "source": [
    "There isn't that much to port over. Mostly just the main classes, since that cannot be translated. We'll have opportunities to use the new PyCall in some cases, at least."
   ]
  },
  {
   "cell_type": "markdown",
   "metadata": {},
   "source": [
    "# sklearn"
   ]
  },
  {
   "cell_type": "code",
   "execution_count": null,
   "metadata": {
    "collapsed": true
   },
   "outputs": [],
   "source": [
    "class MajorityClassifier(BaseEstimator, ClassifierMixin):\n",
    "...     \"\"\"Predicts the majority class of its training data.\"\"\"\n",
    "...     def __init__(self):\n",
    "...         pass\n",
    "...\n",
    "...     def fit(self, X, y):\n",
    "...         self.classes_, indices = np.unique([\"foo\", \"bar\", \"foo\"],\n",
    "...                                            return_inverse=True)\n",
    "...         self.majority_ = np.argmax(np.bincount(indices))\n",
    "...         return self\n",
    "...\n",
    "...     def predict(self, X):\n",
    "...         return np.repeat(self.classes_[self.majority_], len(X))\n"
   ]
  },
  {
   "cell_type": "code",
   "execution_count": 1,
   "metadata": {
    "collapsed": false,
    "scrolled": true
   },
   "outputs": [],
   "source": [
    "using PyCall"
   ]
  },
  {
   "cell_type": "code",
   "execution_count": 2,
   "metadata": {
    "collapsed": true
   },
   "outputs": [],
   "source": [
    "@pyimport sklearn.base as skbase\n"
   ]
  },
  {
   "cell_type": "code",
   "execution_count": 3,
   "metadata": {
    "collapsed": false
   },
   "outputs": [
    {
     "data": {
      "text/plain": [
       "predict (generic function with 1 method)"
      ]
     },
     "execution_count": 3,
     "metadata": {},
     "output_type": "execute_result"
    }
   ],
   "source": [
    "using PyCall\n",
    "@pyimport numpy as np\n",
    "\n",
    "type MajorityClassifier\n",
    "    classes_\n",
    "    majority_\n",
    "    MajorityClassifier() = new()\n",
    "end\n",
    "\n",
    "@pydef type MajorityClassifier\n",
    "    fit(self, X, y) = fit!(self, X, y)\n",
    "    predict(self, X) = predict(self, X)\n",
    "end\n",
    "\n",
    "function fit!(mc::MajorityClassifier, X, y)\n",
    "    mc.classes_, indices = np.unique(y, return_inverse=true)\n",
    "    mc.majority_ = np.argmax(np.bincount(indices)) + 1\n",
    "    return mc\n",
    "end\n",
    "\n",
    "function predict(mc::MajorityClassifier, X)\n",
    "    fill(mc.classes_[mc.majority_], size(X, 1))\n",
    "end"
   ]
  },
  {
   "cell_type": "code",
   "execution_count": 5,
   "metadata": {
    "collapsed": false
   },
   "outputs": [
    {
     "data": {
      "text/plain": [
       "3-element Array{Bool,1}:\n",
       " false\n",
       " false\n",
       " false"
      ]
     },
     "execution_count": 5,
     "metadata": {},
     "output_type": "execute_result"
    }
   ],
   "source": [
    "mc_py = PyObject(MajorityClassifier())\n",
    "mc_py[:fit]([101, 102, 101]'', [true, false, false])\n",
    "mc_py[:predict]([101, 102, 101]'')"
   ]
  },
  {
   "cell_type": "code",
   "execution_count": 6,
   "metadata": {
    "collapsed": false
   },
   "outputs": [
    {
     "data": {
      "text/plain": [
       "MajorityClassifier(Bool[false,true],1)"
      ]
     },
     "execution_count": 6,
     "metadata": {},
     "output_type": "execute_result"
    }
   ],
   "source": [
    "mc = convert(PyAny, mc_py)"
   ]
  },
  {
   "cell_type": "code",
   "execution_count": 33,
   "metadata": {
    "collapsed": false
   },
   "outputs": [
    {
     "data": {
      "text/plain": [
       "2-element Array{Int64,1}:\n",
       " 101\n",
       " 102"
      ]
     },
     "execution_count": 33,
     "metadata": {},
     "output_type": "execute_result"
    }
   ],
   "source": [
    "mc.classes_"
   ]
  },
  {
   "cell_type": "code",
   "execution_count": 12,
   "metadata": {
    "collapsed": false
   },
   "outputs": [],
   "source": [
    "@pyimport sklearn.utils as sku"
   ]
  },
  {
   "cell_type": "code",
   "execution_count": 1,
   "metadata": {
    "collapsed": false
   },
   "outputs": [
    {
     "data": {
      "text/plain": [
       "MajorityClassifier(nothing,nothing)"
      ]
     },
     "execution_count": 1,
     "metadata": {},
     "output_type": "execute_result"
    }
   ],
   "source": [
    "using PyCall\n",
    "\n",
    "unshift!(PyVector(pyimport(\"sys\")[\"path\"]), \"..\");\n",
    "@pyimport Shouting\n",
    "\n",
    "@pyimport sklearn.utils as sku\n",
    "@pyimport sklearn.cross_validation as skcross\n",
    "@pyimport sklearn.datasets as skdata\n",
    "@pyimport sklearn.base as skbase\n",
    "\n",
    "iris = skdata.load_iris()\n",
    "\n",
    "XX, yy = sku.shuffle(iris[\"data\"][:,:], iris[\"target\"][:])\n",
    "\n",
    "@pyimport numpy as np\n",
    "@pyimport sklearn.metrics as skmetrics\n",
    "\n",
    "type MajorityClassifier\n",
    "    classes_\n",
    "    majority_\n",
    "    MajorityClassifier() = new(nothing, nothing)\n",
    "end\n",
    "\n",
    "@pydef type MajorityClassifier # <: skbase.BaseEstimator #Shouting.Shouter\n",
    "    fit(self, X, y) = fit!(self, X, y)\n",
    "    predict(self, X) = predict(self, X)\n",
    "    score(self, X, y; sample_weight=nothing) = score(self, X, y; sample_weight=sample_weight)\n",
    "    get_params(self; deep=false) = Dict()\n",
    "end\n",
    "\n",
    "function fit!(mc::MajorityClassifier, X, y)\n",
    "    mc.classes_, indices = np.unique(y, return_inverse=true)\n",
    "    mc.majority_ = np.argmax(np.bincount(indices))\n",
    "    return mc\n",
    "end\n",
    "\n",
    "function predict(mc::MajorityClassifier, X)\n",
    "    fill(mc.classes_[mc.majority_], size(X, 1))\n",
    "end\n",
    "\n",
    "function score(mc::MajorityClassifier, X, y; sample_weight=nothing)\n",
    "    return skmetrics.accuracy_score(y, predict(mc, X), sample_weight=sample_weight)\n",
    "end\n",
    "\n",
    "\n",
    "#clf = svm.SVC(kernel='linear', C=1)\n",
    "clf = MajorityClassifier()\n",
    "#skcross.cross_val_score(clf, XX, yy, cv=5, )"
   ]
  },
  {
   "cell_type": "code",
   "execution_count": 2,
   "metadata": {
    "collapsed": false
   },
   "outputs": [
    {
     "data": {
      "text/plain": [
       "MajorityClassifier([0,1,2],0)"
      ]
     },
     "execution_count": 2,
     "metadata": {},
     "output_type": "execute_result"
    }
   ],
   "source": [
    "PyObject(clf)[:fit](XX, yy)"
   ]
  },
  {
   "cell_type": "code",
   "execution_count": null,
   "metadata": {
    "collapsed": true
   },
   "outputs": [],
   "source": [
    "skbase.clone(clf)"
   ]
  }
 ],
 "metadata": {
  "kernelspec": {
   "display_name": "Julia 0.4.3",
   "language": "julia",
   "name": "julia-0.4"
  },
  "language_info": {
   "file_extension": ".jl",
   "mimetype": "application/julia",
   "name": "julia",
   "version": "0.4.3"
  }
 },
 "nbformat": 4,
 "nbformat_minor": 0
}
