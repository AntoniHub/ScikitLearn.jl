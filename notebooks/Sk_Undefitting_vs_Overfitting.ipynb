{
 "cells": [
  {
   "cell_type": "markdown",
   "metadata": {},
   "source": [
    "Adapted from http://scikit-learn.org/stable/auto_examples/model_selection/plot_underfitting_overfitting.html"
   ]
  },
  {
   "cell_type": "code",
   "execution_count": 1,
   "metadata": {
    "collapsed": false
   },
   "outputs": [
    {
     "name": "stderr",
     "output_type": "stream",
     "text": [
      "WARNING: [a,b] concatenation is deprecated; use [a;b] instead\n"
     ]
    },
    {
     "ename": "LoadError",
     "evalue": "LoadError: LoadError: ParseError(\"extra token \\\"nothing\\\" after end of expression\")\nwhile loading /Users/cedric/Programa/Sklearn/notebooks/preamble.jl, in expression starting on line 5\nwhile loading In[1], in expression starting on line 1",
     "output_type": "error",
     "traceback": [
      "LoadError: LoadError: ParseError(\"extra token \\\"nothing\\\" after end of expression\")\nwhile loading /Users/cedric/Programa/Sklearn/notebooks/preamble.jl, in expression starting on line 5\nwhile loading In[1], in expression starting on line 1",
      "",
      " in __parse#26__ at /Applications/Julia-0.4.3.app/Contents/Resources/julia/lib/julia/sys.dylib",
      " in parse at /Applications/Julia-0.4.3.app/Contents/Resources/julia/lib/julia/sys.dylib",
      " in parse at parse.jl:190",
      " in parse_file at /Users/cedric/.julia/v0.4/Autoreload/src/files.jl:65",
      " in arequire at /Users/cedric/.julia/v0.4/Autoreload/src/Autoreload.jl:62",
      " in arequire at /Users/cedric/.julia/v0.4/Autoreload/src/Autoreload.jl:78",
      " in include at /Applications/Julia-0.4.3.app/Contents/Resources/julia/lib/julia/sys.dylib",
      " in include_from_node1 at /Applications/Julia-0.4.3.app/Contents/Resources/julia/lib/julia/sys.dylib"
     ]
    }
   ],
   "source": [
    "include(\"preamble.jl\")"
   ]
  },
  {
   "cell_type": "code",
   "execution_count": 2,
   "metadata": {
    "collapsed": false
   },
   "outputs": [
    {
     "name": "stderr",
     "output_type": "stream",
     "text": [
      " in depwarn at deprecated.jl:73\n",
      " in oldstyle_vcat_warning at /Applications/Julia-0.4.3.app/Contents/Resources/julia/lib/julia/sys.dylib\n",
      " in vect at abstractarray.jl:38\n",
      " in find_in_path at /Users/cedric/.julia/v0.4/Autoreload/src/files.jl:11\n",
      " in find_file at /Users/cedric/.julia/v0.4/Autoreload/src/files.jl:40\n",
      " in arequire at /Users/cedric/.julia/v0.4/Autoreload/src/Autoreload.jl:50\n",
      " in include at /Applications/Julia-0.4.3.app/Contents/Resources/julia/lib/julia/sys.dylib\n",
      " in include_from_node1 at /Applications/Julia-0.4.3.app/Contents/Resources/julia/lib/julia/sys.dylib\n",
      " in include_string at loading.jl:266\n",
      " in execute_request_0x535c5df2 at /Users/cedric/.julia/v0.4/IJulia/src/execute_request.jl:177\n",
      " in eventloop at /Users/cedric/.julia/v0.4/IJulia/src/IJulia.jl:141\n",
      " in anonymous at task.jl:447\n",
      "while loading /Users/cedric/Programa/Sklearn/notebooks/preamble.jl, in expression starting on line 5\n"
     ]
    }
   ],
   "source": [
    "#using Sklearn: Pipeline"
   ]
  },
  {
   "cell_type": "code",
   "execution_count": 3,
   "metadata": {
    "collapsed": false
   },
   "outputs": [
    {
     "ename": "LoadError",
     "evalue": "LoadError: UndefVarError: @pyimport2 not defined\nwhile loading In[3], in expression starting on line 2",
     "output_type": "error",
     "traceback": [
      "LoadError: UndefVarError: @pyimport2 not defined\nwhile loading In[3], in expression starting on line 2",
      ""
     ]
    }
   ],
   "source": [
    "@pyimport2 sklearn.pipeline: Pipeline\n",
    "@pyimport2 sklearn.preprocessing: PolynomialFeatures\n",
    "@pyimport2 sklearn.linear_model: LinearRegression\n",
    "@pyimport2 sklearn: cross_validation"
   ]
  },
  {
   "cell_type": "code",
   "execution_count": 4,
   "metadata": {
    "collapsed": false
   },
   "outputs": [
    {
     "ename": "LoadError",
     "evalue": "LoadError: UndefVarError: figure not defined\nwhile loading In[4], in expression starting on line 10",
     "output_type": "error",
     "traceback": [
      "LoadError: UndefVarError: figure not defined\nwhile loading In[4], in expression starting on line 10",
      ""
     ]
    }
   ],
   "source": [
    "srand(2)\n",
    "\n",
    "n_samples = 30\n",
    "degrees = [1, 4, 15]\n",
    "\n",
    "true_fun(X) = cos(1.5 * pi * X)\n",
    "X = sort(rand(n_samples))\n",
    "y = true_fun(X) + randn(n_samples) * 0.1\n",
    "\n",
    "figure(figsize=(14, 5))\n",
    "for (i, degree) in enumerate(degrees)\n",
    "    ax = subplot(1, length(degrees), i)\n",
    "    setp(ax, xticks=(), yticks=())\n",
    "\n",
    "    polynomial_features = PolynomialFeatures(degree=degree, include_bias=false)\n",
    "    linear_regression = LinearRegression()\n",
    "    pipeline = Pipeline([(\"polynomial_features\", polynomial_features),\n",
    "                         (\"linear_regression\", linear_regression)])\n",
    "    fit!(pipeline, X'', y)\n",
    "\n",
    "    # Evaluate the models using crossvalidation\n",
    "    scores = Sklearn.cross_val_score(pipeline, X'', y, scoring=\"mean_squared_error\", cv=10)\n",
    "\n",
    "    X_test = linspace(0, 1, 100)\n",
    "    plot(X_test, predict(pipeline, X_test''), label=\"Model\")\n",
    "    plot(X_test, true_fun(X_test), label=\"True function\")\n",
    "    scatter(X, y, label=\"Samples\")\n",
    "    xlabel(\"x\")\n",
    "    ylabel(\"y\")\n",
    "    xlim((0, 1))\n",
    "    ylim((-2, 2))\n",
    "    legend(loc=\"best\")\n",
    "    title(@sprintf(\"Degree %d\\nMSE = %.2e +/- %.2e\", degree, -mean(scores), std(scores)))\n",
    "end"
   ]
  }
 ],
 "metadata": {
  "kernelspec": {
   "display_name": "Julia 0.4.3",
   "language": "julia",
   "name": "julia-0.4"
  },
  "language_info": {
   "file_extension": ".jl",
   "mimetype": "application/julia",
   "name": "julia",
   "version": "0.4.3"
  }
 },
 "nbformat": 4,
 "nbformat_minor": 0
}
